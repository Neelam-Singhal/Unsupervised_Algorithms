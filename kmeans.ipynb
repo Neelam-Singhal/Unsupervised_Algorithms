{
 "cells": [
  {
   "cell_type": "markdown",
   "source": [
    "# K-means algorithm\r\n",
    "\r\n",
    "1. Choose the number of clusters (k)\r\n",
    "2. Select k random points from the data as centroids\r\n",
    "3. Assign each point to the closest cluster centroid\r\n",
    "4. Recompute centroids of newly formed clusters\r\n",
    "5. Again assign each point to closest cluster centroid and continue these steps"
   ],
   "metadata": {}
  },
  {
   "cell_type": "code",
   "execution_count": 1,
   "source": [
    "import pandas as pd\r\n",
    "import numpy as np\r\n",
    "import random as rd\r\n",
    "import matplotlib.pyplot as plt"
   ],
   "outputs": [],
   "metadata": {}
  },
  {
   "cell_type": "code",
   "execution_count": 2,
   "source": [
    "data = pd.read_csv('clustering.csv')"
   ],
   "outputs": [],
   "metadata": {}
  },
  {
   "cell_type": "code",
   "execution_count": 3,
   "source": [
    "data.head()"
   ],
   "outputs": [
    {
     "output_type": "execute_result",
     "data": {
      "text/html": [
       "<div>\n",
       "<style scoped>\n",
       "    .dataframe tbody tr th:only-of-type {\n",
       "        vertical-align: middle;\n",
       "    }\n",
       "\n",
       "    .dataframe tbody tr th {\n",
       "        vertical-align: top;\n",
       "    }\n",
       "\n",
       "    .dataframe thead th {\n",
       "        text-align: right;\n",
       "    }\n",
       "</style>\n",
       "<table border=\"1\" class=\"dataframe\">\n",
       "  <thead>\n",
       "    <tr style=\"text-align: right;\">\n",
       "      <th></th>\n",
       "      <th>Loan_ID</th>\n",
       "      <th>Gender</th>\n",
       "      <th>Married</th>\n",
       "      <th>Dependents</th>\n",
       "      <th>Education</th>\n",
       "      <th>Self_Employed</th>\n",
       "      <th>ApplicantIncome</th>\n",
       "      <th>CoapplicantIncome</th>\n",
       "      <th>LoanAmount</th>\n",
       "      <th>Loan_Amount_Term</th>\n",
       "      <th>Credit_History</th>\n",
       "      <th>Property_Area</th>\n",
       "      <th>Loan_Status</th>\n",
       "    </tr>\n",
       "  </thead>\n",
       "  <tbody>\n",
       "    <tr>\n",
       "      <th>0</th>\n",
       "      <td>LP001003</td>\n",
       "      <td>Male</td>\n",
       "      <td>Yes</td>\n",
       "      <td>1</td>\n",
       "      <td>Graduate</td>\n",
       "      <td>No</td>\n",
       "      <td>4583</td>\n",
       "      <td>1508.0</td>\n",
       "      <td>128.0</td>\n",
       "      <td>360.0</td>\n",
       "      <td>1.0</td>\n",
       "      <td>Rural</td>\n",
       "      <td>N</td>\n",
       "    </tr>\n",
       "    <tr>\n",
       "      <th>1</th>\n",
       "      <td>LP001005</td>\n",
       "      <td>Male</td>\n",
       "      <td>Yes</td>\n",
       "      <td>0</td>\n",
       "      <td>Graduate</td>\n",
       "      <td>Yes</td>\n",
       "      <td>3000</td>\n",
       "      <td>0.0</td>\n",
       "      <td>66.0</td>\n",
       "      <td>360.0</td>\n",
       "      <td>1.0</td>\n",
       "      <td>Urban</td>\n",
       "      <td>Y</td>\n",
       "    </tr>\n",
       "    <tr>\n",
       "      <th>2</th>\n",
       "      <td>LP001006</td>\n",
       "      <td>Male</td>\n",
       "      <td>Yes</td>\n",
       "      <td>0</td>\n",
       "      <td>Not Graduate</td>\n",
       "      <td>No</td>\n",
       "      <td>2583</td>\n",
       "      <td>2358.0</td>\n",
       "      <td>120.0</td>\n",
       "      <td>360.0</td>\n",
       "      <td>1.0</td>\n",
       "      <td>Urban</td>\n",
       "      <td>Y</td>\n",
       "    </tr>\n",
       "    <tr>\n",
       "      <th>3</th>\n",
       "      <td>LP001008</td>\n",
       "      <td>Male</td>\n",
       "      <td>No</td>\n",
       "      <td>0</td>\n",
       "      <td>Graduate</td>\n",
       "      <td>No</td>\n",
       "      <td>6000</td>\n",
       "      <td>0.0</td>\n",
       "      <td>141.0</td>\n",
       "      <td>360.0</td>\n",
       "      <td>1.0</td>\n",
       "      <td>Urban</td>\n",
       "      <td>Y</td>\n",
       "    </tr>\n",
       "    <tr>\n",
       "      <th>4</th>\n",
       "      <td>LP001013</td>\n",
       "      <td>Male</td>\n",
       "      <td>Yes</td>\n",
       "      <td>0</td>\n",
       "      <td>Not Graduate</td>\n",
       "      <td>No</td>\n",
       "      <td>2333</td>\n",
       "      <td>1516.0</td>\n",
       "      <td>95.0</td>\n",
       "      <td>360.0</td>\n",
       "      <td>1.0</td>\n",
       "      <td>Urban</td>\n",
       "      <td>Y</td>\n",
       "    </tr>\n",
       "  </tbody>\n",
       "</table>\n",
       "</div>"
      ],
      "text/plain": [
       "    Loan_ID Gender Married Dependents     Education Self_Employed  \\\n",
       "0  LP001003   Male     Yes          1      Graduate            No   \n",
       "1  LP001005   Male     Yes          0      Graduate           Yes   \n",
       "2  LP001006   Male     Yes          0  Not Graduate            No   \n",
       "3  LP001008   Male      No          0      Graduate            No   \n",
       "4  LP001013   Male     Yes          0  Not Graduate            No   \n",
       "\n",
       "   ApplicantIncome  CoapplicantIncome  LoanAmount  Loan_Amount_Term  \\\n",
       "0             4583             1508.0       128.0             360.0   \n",
       "1             3000                0.0        66.0             360.0   \n",
       "2             2583             2358.0       120.0             360.0   \n",
       "3             6000                0.0       141.0             360.0   \n",
       "4             2333             1516.0        95.0             360.0   \n",
       "\n",
       "   Credit_History Property_Area Loan_Status  \n",
       "0             1.0         Rural           N  \n",
       "1             1.0         Urban           Y  \n",
       "2             1.0         Urban           Y  \n",
       "3             1.0         Urban           Y  \n",
       "4             1.0         Urban           Y  "
      ]
     },
     "metadata": {},
     "execution_count": 3
    }
   ],
   "metadata": {}
  },
  {
   "cell_type": "code",
   "execution_count": 4,
   "source": [
    "X = data[[\"LoanAmount\",\"ApplicantIncome\"]]"
   ],
   "outputs": [],
   "metadata": {}
  },
  {
   "cell_type": "code",
   "execution_count": 6,
   "source": [
    "# Visualize the data\r\n",
    "plt.scatter(X.ApplicantIncome, X.LoanAmount)"
   ],
   "outputs": [
    {
     "output_type": "execute_result",
     "data": {
      "text/plain": [
       "<matplotlib.collections.PathCollection at 0x21d76c76580>"
      ]
     },
     "metadata": {},
     "execution_count": 6
    },
    {
     "output_type": "display_data",
     "data": {
      "image/png": "[encoded data removed]",
      "text/plain": [
       "<Figure size 432x288 with 1 Axes>"
      ]
     },
     "metadata": {
      "needs_background": "light"
     }
    }
   ],
   "metadata": {}
  },
  {
   "cell_type": "markdown",
   "source": [
    "Step 1 - Choose the number of clusters (k) and select random centroid for each cluster\r\n",
    "\r\n",
    "Step 2 - Assign all the points to the closest cluster centroid\r\n",
    "\r\n",
    "Step 3 - Recompute centroids of newly formed clusters\r\n",
    "\r\n",
    "Step 4 - Repeat step 2 and 3."
   ],
   "metadata": {}
  },
  {
   "cell_type": "code",
   "execution_count": 7,
   "source": [
    "# Step 1 - Choose the number of clusters (k) and select random centroid for each cluster\r\n",
    "#number of clusters\r\n",
    "K=3"
   ],
   "outputs": [],
   "metadata": {}
  },
  {
   "cell_type": "code",
   "execution_count": 38,
   "source": [
    "# Select random samples\r\n",
    "Centroids = X.sample(K)\r\n",
    "\r\n",
    "plt.scatter(X.ApplicantIncome, X.LoanAmount, c=\"black\")\r\n",
    "plt.scatter(Centroids.ApplicantIncome, Centroids.LoanAmount, c=\"red\")\r\n"
   ],
   "outputs": [
    {
     "output_type": "execute_result",
     "data": {
      "text/plain": [
       "<matplotlib.collections.PathCollection at 0x21d76f04070>"
      ]
     },
     "metadata": {},
     "execution_count": 38
    },
    {
     "output_type": "display_data",
     "data": {
      "image/png": "[encoded data removed]",
      "text/plain": [
       "<Figure size 432x288 with 1 Axes>"
      ]
     },
     "metadata": {
      "needs_background": "light"
     }
    }
   ],
   "metadata": {}
  },
  {
   "cell_type": "code",
   "execution_count": 39,
   "source": [
    "diff = 1\r\n",
    "j=0"
   ],
   "outputs": [],
   "metadata": {}
  },
  {
   "cell_type": "code",
   "execution_count": 40,
   "source": [
    "while(diff!=0):\r\n",
    "    XD=X\r\n",
    "    i=1\r\n",
    "    for index1,row_c in Centroids.iterrows():\r\n",
    "        ED=[]\r\n",
    "        for index2,row_d in XD.iterrows():\r\n",
    "            d1=(row_c[\"ApplicantIncome\"]-row_d[\"ApplicantIncome\"])**2\r\n",
    "            d2=(row_c[\"LoanAmount\"]-row_d[\"LoanAmount\"])**2\r\n",
    "            d=np.sqrt(d1+d2)\r\n",
    "            ED.append(d)\r\n",
    "        X[i]=ED\r\n",
    "        i=i+1\r\n",
    "\r\n",
    "    C=[]\r\n",
    "    for index,row in X.iterrows():\r\n",
    "        min_dist=row[1]\r\n",
    "        pos=1\r\n",
    "        for i in range(K):\r\n",
    "            if row.iloc[i+2] < min_dist:\r\n",
    "                min_dist = row.iloc[i+2]\r\n",
    "                pos = i+1\r\n",
    "        C.append(pos)\r\n",
    "    X[\"Cluster\"]=C\r\n",
    "    Centroids_new = X.groupby([\"Cluster\"]).mean()[[\"LoanAmount\",\"ApplicantIncome\"]]\r\n",
    "    if j == 0:\r\n",
    "        diff=1\r\n",
    "        j=j+1\r\n",
    "    else:\r\n",
    "        diff = (Centroids_new['LoanAmount'] - Centroids['LoanAmount']).sum() + (Centroids_new['ApplicantIncome'] - Centroids['ApplicantIncome']).sum()\r\n",
    "        print(diff.sum())\r\n",
    "    Centroids = X.groupby([\"Cluster\"]).mean()[[\"LoanAmount\",\"ApplicantIncome\"]]"
   ],
   "outputs": [
    {
     "output_type": "stream",
     "name": "stdout",
     "text": [
      "-8.519510860306696\n",
      "-203.47280958361705\n",
      "-111.98961242432297\n",
      "-163.54033867216276\n",
      "-137.5036058084487\n",
      "-121.71293760862933\n",
      "-46.7501216812597\n",
      "-46.4934676023523\n",
      "-55.03495831127759\n",
      "-9.190752402517077\n",
      "-9.19844100901777\n",
      "-9.237706177129652\n",
      "0.0\n"
     ]
    }
   ],
   "metadata": {}
  },
  {
   "cell_type": "code",
   "execution_count": 37,
   "source": [
    "color=['blue','green','cyan']\r\n",
    "for k in range(K):\r\n",
    "    data=X[X[\"Cluster\"]==k+1]\r\n",
    "    plt.scatter(data[\"ApplicantIncome\"],data[\"LoanAmount\"],c=color[k])\r\n",
    "plt.scatter(Centroids[\"ApplicantIncome\"],Centroids[\"LoanAmount\"],c='red')\r\n",
    "plt.xlabel('Income')\r\n",
    "plt.ylabel('Loan Amount (In Thousands)')\r\n",
    "plt.show()"
   ],
   "outputs": [
    {
     "output_type": "display_data",
     "data": {
      "image/png": "[encoded data removed]",
      "text/plain": [
       "<Figure size 432x288 with 1 Axes>"
      ]
     },
     "metadata": {
      "needs_background": "light"
     }
    }
   ],
   "metadata": {}
  },
  {
   "cell_type": "markdown",
   "source": [
    "## Issue with K-means:\r\n",
    "1. When cluster sizes are different. K-means don't work properly here. K-means always tries to create cluster of same size - Sol: Increase number of clusters\r\n",
    "2. When density of cluster is different.\r\n",
    "3. Problem with random initialization - Every time we might get different clusers. Here, we can train the algo multiple times and then choose the cluster which gives least inertia or optimize other evaluration metrics like Dunn index.\r\n",
    "\r\n",
    "What is optimum number of clusterS?\r\n"
   ],
   "metadata": {}
  },
  {
   "cell_type": "markdown",
   "source": [
    "## Choosing right k-value\r\n",
    "Elbow method is used  for finding the optimal number of clusters. The elbow method looks at the percentage of variance explained as a function of the number of clusters: One should choose a number of clusters so that adding another cluster doesn’t give much better modeling of the data.\r\n",
    "\r\n",
    "\r\n",
    "\r\n"
   ],
   "metadata": {}
  },
  {
   "cell_type": "code",
   "execution_count": 42,
   "source": [
    "from sklearn.cluster import KMeans"
   ],
   "outputs": [],
   "metadata": {}
  },
  {
   "cell_type": "code",
   "execution_count": 43,
   "source": [
    "data=pd.read_csv(\"student_evaluation.csv\")"
   ],
   "outputs": [],
   "metadata": {}
  },
  {
   "cell_type": "code",
   "execution_count": 44,
   "source": [
    "data.shape"
   ],
   "outputs": [
    {
     "output_type": "execute_result",
     "data": {
      "text/plain": [
       "(5820, 33)"
      ]
     },
     "metadata": {},
     "execution_count": 44
    }
   ],
   "metadata": {}
  },
  {
   "cell_type": "code",
   "execution_count": 45,
   "source": [
    "data.head()"
   ],
   "outputs": [
    {
     "output_type": "execute_result",
     "data": {
      "text/html": [
       "<div>\n",
       "<style scoped>\n",
       "    .dataframe tbody tr th:only-of-type {\n",
       "        vertical-align: middle;\n",
       "    }\n",
       "\n",
       "    .dataframe tbody tr th {\n",
       "        vertical-align: top;\n",
       "    }\n",
       "\n",
       "    .dataframe thead th {\n",
       "        text-align: right;\n",
       "    }\n",
       "</style>\n",
       "<table border=\"1\" class=\"dataframe\">\n",
       "  <thead>\n",
       "    <tr style=\"text-align: right;\">\n",
       "      <th></th>\n",
       "      <th>instr</th>\n",
       "      <th>class</th>\n",
       "      <th>nb.repeat</th>\n",
       "      <th>attendance</th>\n",
       "      <th>difficulty</th>\n",
       "      <th>Q1</th>\n",
       "      <th>Q2</th>\n",
       "      <th>Q3</th>\n",
       "      <th>Q4</th>\n",
       "      <th>Q5</th>\n",
       "      <th>...</th>\n",
       "      <th>Q19</th>\n",
       "      <th>Q20</th>\n",
       "      <th>Q21</th>\n",
       "      <th>Q22</th>\n",
       "      <th>Q23</th>\n",
       "      <th>Q24</th>\n",
       "      <th>Q25</th>\n",
       "      <th>Q26</th>\n",
       "      <th>Q27</th>\n",
       "      <th>Q28</th>\n",
       "    </tr>\n",
       "  </thead>\n",
       "  <tbody>\n",
       "    <tr>\n",
       "      <th>0</th>\n",
       "      <td>1</td>\n",
       "      <td>2</td>\n",
       "      <td>1</td>\n",
       "      <td>0</td>\n",
       "      <td>4</td>\n",
       "      <td>3</td>\n",
       "      <td>3</td>\n",
       "      <td>3</td>\n",
       "      <td>3</td>\n",
       "      <td>3</td>\n",
       "      <td>...</td>\n",
       "      <td>3</td>\n",
       "      <td>3</td>\n",
       "      <td>3</td>\n",
       "      <td>3</td>\n",
       "      <td>3</td>\n",
       "      <td>3</td>\n",
       "      <td>3</td>\n",
       "      <td>3</td>\n",
       "      <td>3</td>\n",
       "      <td>3</td>\n",
       "    </tr>\n",
       "    <tr>\n",
       "      <th>1</th>\n",
       "      <td>1</td>\n",
       "      <td>2</td>\n",
       "      <td>1</td>\n",
       "      <td>1</td>\n",
       "      <td>3</td>\n",
       "      <td>3</td>\n",
       "      <td>3</td>\n",
       "      <td>3</td>\n",
       "      <td>3</td>\n",
       "      <td>3</td>\n",
       "      <td>...</td>\n",
       "      <td>3</td>\n",
       "      <td>3</td>\n",
       "      <td>3</td>\n",
       "      <td>3</td>\n",
       "      <td>3</td>\n",
       "      <td>3</td>\n",
       "      <td>3</td>\n",
       "      <td>3</td>\n",
       "      <td>3</td>\n",
       "      <td>3</td>\n",
       "    </tr>\n",
       "    <tr>\n",
       "      <th>2</th>\n",
       "      <td>1</td>\n",
       "      <td>2</td>\n",
       "      <td>1</td>\n",
       "      <td>2</td>\n",
       "      <td>4</td>\n",
       "      <td>5</td>\n",
       "      <td>5</td>\n",
       "      <td>5</td>\n",
       "      <td>5</td>\n",
       "      <td>5</td>\n",
       "      <td>...</td>\n",
       "      <td>5</td>\n",
       "      <td>5</td>\n",
       "      <td>5</td>\n",
       "      <td>5</td>\n",
       "      <td>5</td>\n",
       "      <td>5</td>\n",
       "      <td>5</td>\n",
       "      <td>5</td>\n",
       "      <td>5</td>\n",
       "      <td>5</td>\n",
       "    </tr>\n",
       "    <tr>\n",
       "      <th>3</th>\n",
       "      <td>1</td>\n",
       "      <td>2</td>\n",
       "      <td>1</td>\n",
       "      <td>1</td>\n",
       "      <td>3</td>\n",
       "      <td>3</td>\n",
       "      <td>3</td>\n",
       "      <td>3</td>\n",
       "      <td>3</td>\n",
       "      <td>3</td>\n",
       "      <td>...</td>\n",
       "      <td>3</td>\n",
       "      <td>3</td>\n",
       "      <td>3</td>\n",
       "      <td>3</td>\n",
       "      <td>3</td>\n",
       "      <td>3</td>\n",
       "      <td>3</td>\n",
       "      <td>3</td>\n",
       "      <td>3</td>\n",
       "      <td>3</td>\n",
       "    </tr>\n",
       "    <tr>\n",
       "      <th>4</th>\n",
       "      <td>1</td>\n",
       "      <td>2</td>\n",
       "      <td>1</td>\n",
       "      <td>0</td>\n",
       "      <td>1</td>\n",
       "      <td>1</td>\n",
       "      <td>1</td>\n",
       "      <td>1</td>\n",
       "      <td>1</td>\n",
       "      <td>1</td>\n",
       "      <td>...</td>\n",
       "      <td>1</td>\n",
       "      <td>1</td>\n",
       "      <td>1</td>\n",
       "      <td>1</td>\n",
       "      <td>1</td>\n",
       "      <td>1</td>\n",
       "      <td>1</td>\n",
       "      <td>1</td>\n",
       "      <td>1</td>\n",
       "      <td>1</td>\n",
       "    </tr>\n",
       "  </tbody>\n",
       "</table>\n",
       "<p>5 rows × 33 columns</p>\n",
       "</div>"
      ],
      "text/plain": [
       "   instr  class  nb.repeat  attendance  difficulty  Q1  Q2  Q3  Q4  Q5  ...  \\\n",
       "0      1      2          1           0           4   3   3   3   3   3  ...   \n",
       "1      1      2          1           1           3   3   3   3   3   3  ...   \n",
       "2      1      2          1           2           4   5   5   5   5   5  ...   \n",
       "3      1      2          1           1           3   3   3   3   3   3  ...   \n",
       "4      1      2          1           0           1   1   1   1   1   1  ...   \n",
       "\n",
       "   Q19  Q20  Q21  Q22  Q23  Q24  Q25  Q26  Q27  Q28  \n",
       "0    3    3    3    3    3    3    3    3    3    3  \n",
       "1    3    3    3    3    3    3    3    3    3    3  \n",
       "2    5    5    5    5    5    5    5    5    5    5  \n",
       "3    3    3    3    3    3    3    3    3    3    3  \n",
       "4    1    1    1    1    1    1    1    1    1    1  \n",
       "\n",
       "[5 rows x 33 columns]"
      ]
     },
     "metadata": {},
     "execution_count": 45
    }
   ],
   "metadata": {}
  },
  {
   "cell_type": "code",
   "execution_count": 46,
   "source": [
    "data.describe()"
   ],
   "outputs": [
    {
     "output_type": "execute_result",
     "data": {
      "text/html": [
       "<div>\n",
       "<style scoped>\n",
       "    .dataframe tbody tr th:only-of-type {\n",
       "        vertical-align: middle;\n",
       "    }\n",
       "\n",
       "    .dataframe tbody tr th {\n",
       "        vertical-align: top;\n",
       "    }\n",
       "\n",
       "    .dataframe thead th {\n",
       "        text-align: right;\n",
       "    }\n",
       "</style>\n",
       "<table border=\"1\" class=\"dataframe\">\n",
       "  <thead>\n",
       "    <tr style=\"text-align: right;\">\n",
       "      <th></th>\n",
       "      <th>instr</th>\n",
       "      <th>class</th>\n",
       "      <th>nb.repeat</th>\n",
       "      <th>attendance</th>\n",
       "      <th>difficulty</th>\n",
       "      <th>Q1</th>\n",
       "      <th>Q2</th>\n",
       "      <th>Q3</th>\n",
       "      <th>Q4</th>\n",
       "      <th>Q5</th>\n",
       "      <th>...</th>\n",
       "      <th>Q19</th>\n",
       "      <th>Q20</th>\n",
       "      <th>Q21</th>\n",
       "      <th>Q22</th>\n",
       "      <th>Q23</th>\n",
       "      <th>Q24</th>\n",
       "      <th>Q25</th>\n",
       "      <th>Q26</th>\n",
       "      <th>Q27</th>\n",
       "      <th>Q28</th>\n",
       "    </tr>\n",
       "  </thead>\n",
       "  <tbody>\n",
       "    <tr>\n",
       "      <th>count</th>\n",
       "      <td>5820.000000</td>\n",
       "      <td>5820.000000</td>\n",
       "      <td>5820.000000</td>\n",
       "      <td>5820.000000</td>\n",
       "      <td>5820.000000</td>\n",
       "      <td>5820.000000</td>\n",
       "      <td>5820.000000</td>\n",
       "      <td>5820.000000</td>\n",
       "      <td>5820.000000</td>\n",
       "      <td>5820.000000</td>\n",
       "      <td>...</td>\n",
       "      <td>5820.000000</td>\n",
       "      <td>5820.000000</td>\n",
       "      <td>5820.000000</td>\n",
       "      <td>5820.000000</td>\n",
       "      <td>5820.00000</td>\n",
       "      <td>5820.000000</td>\n",
       "      <td>5820.000000</td>\n",
       "      <td>5820.000000</td>\n",
       "      <td>5820.000000</td>\n",
       "      <td>5820.000000</td>\n",
       "    </tr>\n",
       "    <tr>\n",
       "      <th>mean</th>\n",
       "      <td>2.485567</td>\n",
       "      <td>7.276289</td>\n",
       "      <td>1.214089</td>\n",
       "      <td>1.675601</td>\n",
       "      <td>2.783505</td>\n",
       "      <td>2.929897</td>\n",
       "      <td>3.073883</td>\n",
       "      <td>3.178694</td>\n",
       "      <td>3.082474</td>\n",
       "      <td>3.105842</td>\n",
       "      <td>...</td>\n",
       "      <td>3.261684</td>\n",
       "      <td>3.285395</td>\n",
       "      <td>3.307388</td>\n",
       "      <td>3.317526</td>\n",
       "      <td>3.20189</td>\n",
       "      <td>3.166838</td>\n",
       "      <td>3.312543</td>\n",
       "      <td>3.222165</td>\n",
       "      <td>3.154811</td>\n",
       "      <td>3.308076</td>\n",
       "    </tr>\n",
       "    <tr>\n",
       "      <th>std</th>\n",
       "      <td>0.718473</td>\n",
       "      <td>3.688175</td>\n",
       "      <td>0.532376</td>\n",
       "      <td>1.474975</td>\n",
       "      <td>1.348987</td>\n",
       "      <td>1.341077</td>\n",
       "      <td>1.285251</td>\n",
       "      <td>1.253567</td>\n",
       "      <td>1.284594</td>\n",
       "      <td>1.278989</td>\n",
       "      <td>...</td>\n",
       "      <td>1.268442</td>\n",
       "      <td>1.276848</td>\n",
       "      <td>1.269974</td>\n",
       "      <td>1.268358</td>\n",
       "      <td>1.27259</td>\n",
       "      <td>1.275909</td>\n",
       "      <td>1.257286</td>\n",
       "      <td>1.270695</td>\n",
       "      <td>1.291872</td>\n",
       "      <td>1.278709</td>\n",
       "    </tr>\n",
       "    <tr>\n",
       "      <th>min</th>\n",
       "      <td>1.000000</td>\n",
       "      <td>1.000000</td>\n",
       "      <td>1.000000</td>\n",
       "      <td>0.000000</td>\n",
       "      <td>1.000000</td>\n",
       "      <td>1.000000</td>\n",
       "      <td>1.000000</td>\n",
       "      <td>1.000000</td>\n",
       "      <td>1.000000</td>\n",
       "      <td>1.000000</td>\n",
       "      <td>...</td>\n",
       "      <td>1.000000</td>\n",
       "      <td>1.000000</td>\n",
       "      <td>1.000000</td>\n",
       "      <td>1.000000</td>\n",
       "      <td>1.00000</td>\n",
       "      <td>1.000000</td>\n",
       "      <td>1.000000</td>\n",
       "      <td>1.000000</td>\n",
       "      <td>1.000000</td>\n",
       "      <td>1.000000</td>\n",
       "    </tr>\n",
       "    <tr>\n",
       "      <th>25%</th>\n",
       "      <td>2.000000</td>\n",
       "      <td>4.000000</td>\n",
       "      <td>1.000000</td>\n",
       "      <td>0.000000</td>\n",
       "      <td>1.000000</td>\n",
       "      <td>2.000000</td>\n",
       "      <td>2.000000</td>\n",
       "      <td>2.000000</td>\n",
       "      <td>2.000000</td>\n",
       "      <td>2.000000</td>\n",
       "      <td>...</td>\n",
       "      <td>3.000000</td>\n",
       "      <td>3.000000</td>\n",
       "      <td>3.000000</td>\n",
       "      <td>3.000000</td>\n",
       "      <td>2.00000</td>\n",
       "      <td>2.000000</td>\n",
       "      <td>3.000000</td>\n",
       "      <td>2.000000</td>\n",
       "      <td>2.000000</td>\n",
       "      <td>3.000000</td>\n",
       "    </tr>\n",
       "    <tr>\n",
       "      <th>50%</th>\n",
       "      <td>3.000000</td>\n",
       "      <td>7.000000</td>\n",
       "      <td>1.000000</td>\n",
       "      <td>1.000000</td>\n",
       "      <td>3.000000</td>\n",
       "      <td>3.000000</td>\n",
       "      <td>3.000000</td>\n",
       "      <td>3.000000</td>\n",
       "      <td>3.000000</td>\n",
       "      <td>3.000000</td>\n",
       "      <td>...</td>\n",
       "      <td>3.000000</td>\n",
       "      <td>3.000000</td>\n",
       "      <td>3.000000</td>\n",
       "      <td>3.000000</td>\n",
       "      <td>3.00000</td>\n",
       "      <td>3.000000</td>\n",
       "      <td>3.000000</td>\n",
       "      <td>3.000000</td>\n",
       "      <td>3.000000</td>\n",
       "      <td>3.000000</td>\n",
       "    </tr>\n",
       "    <tr>\n",
       "      <th>75%</th>\n",
       "      <td>3.000000</td>\n",
       "      <td>10.000000</td>\n",
       "      <td>1.000000</td>\n",
       "      <td>3.000000</td>\n",
       "      <td>4.000000</td>\n",
       "      <td>4.000000</td>\n",
       "      <td>4.000000</td>\n",
       "      <td>4.000000</td>\n",
       "      <td>4.000000</td>\n",
       "      <td>4.000000</td>\n",
       "      <td>...</td>\n",
       "      <td>4.000000</td>\n",
       "      <td>4.000000</td>\n",
       "      <td>4.000000</td>\n",
       "      <td>4.000000</td>\n",
       "      <td>4.00000</td>\n",
       "      <td>4.000000</td>\n",
       "      <td>4.000000</td>\n",
       "      <td>4.000000</td>\n",
       "      <td>4.000000</td>\n",
       "      <td>4.000000</td>\n",
       "    </tr>\n",
       "    <tr>\n",
       "      <th>max</th>\n",
       "      <td>3.000000</td>\n",
       "      <td>13.000000</td>\n",
       "      <td>3.000000</td>\n",
       "      <td>4.000000</td>\n",
       "      <td>5.000000</td>\n",
       "      <td>5.000000</td>\n",
       "      <td>5.000000</td>\n",
       "      <td>5.000000</td>\n",
       "      <td>5.000000</td>\n",
       "      <td>5.000000</td>\n",
       "      <td>...</td>\n",
       "      <td>5.000000</td>\n",
       "      <td>5.000000</td>\n",
       "      <td>5.000000</td>\n",
       "      <td>5.000000</td>\n",
       "      <td>5.00000</td>\n",
       "      <td>5.000000</td>\n",
       "      <td>5.000000</td>\n",
       "      <td>5.000000</td>\n",
       "      <td>5.000000</td>\n",
       "      <td>5.000000</td>\n",
       "    </tr>\n",
       "  </tbody>\n",
       "</table>\n",
       "<p>8 rows × 33 columns</p>\n",
       "</div>"
      ],
      "text/plain": [
       "             instr        class    nb.repeat   attendance   difficulty  \\\n",
       "count  5820.000000  5820.000000  5820.000000  5820.000000  5820.000000   \n",
       "mean      2.485567     7.276289     1.214089     1.675601     2.783505   \n",
       "std       0.718473     3.688175     0.532376     1.474975     1.348987   \n",
       "min       1.000000     1.000000     1.000000     0.000000     1.000000   \n",
       "25%       2.000000     4.000000     1.000000     0.000000     1.000000   \n",
       "50%       3.000000     7.000000     1.000000     1.000000     3.000000   \n",
       "75%       3.000000    10.000000     1.000000     3.000000     4.000000   \n",
       "max       3.000000    13.000000     3.000000     4.000000     5.000000   \n",
       "\n",
       "                Q1           Q2           Q3           Q4           Q5  ...  \\\n",
       "count  5820.000000  5820.000000  5820.000000  5820.000000  5820.000000  ...   \n",
       "mean      2.929897     3.073883     3.178694     3.082474     3.105842  ...   \n",
       "std       1.341077     1.285251     1.253567     1.284594     1.278989  ...   \n",
       "min       1.000000     1.000000     1.000000     1.000000     1.000000  ...   \n",
       "25%       2.000000     2.000000     2.000000     2.000000     2.000000  ...   \n",
       "50%       3.000000     3.000000     3.000000     3.000000     3.000000  ...   \n",
       "75%       4.000000     4.000000     4.000000     4.000000     4.000000  ...   \n",
       "max       5.000000     5.000000     5.000000     5.000000     5.000000  ...   \n",
       "\n",
       "               Q19          Q20          Q21          Q22         Q23  \\\n",
       "count  5820.000000  5820.000000  5820.000000  5820.000000  5820.00000   \n",
       "mean      3.261684     3.285395     3.307388     3.317526     3.20189   \n",
       "std       1.268442     1.276848     1.269974     1.268358     1.27259   \n",
       "min       1.000000     1.000000     1.000000     1.000000     1.00000   \n",
       "25%       3.000000     3.000000     3.000000     3.000000     2.00000   \n",
       "50%       3.000000     3.000000     3.000000     3.000000     3.00000   \n",
       "75%       4.000000     4.000000     4.000000     4.000000     4.00000   \n",
       "max       5.000000     5.000000     5.000000     5.000000     5.00000   \n",
       "\n",
       "               Q24          Q25          Q26          Q27          Q28  \n",
       "count  5820.000000  5820.000000  5820.000000  5820.000000  5820.000000  \n",
       "mean      3.166838     3.312543     3.222165     3.154811     3.308076  \n",
       "std       1.275909     1.257286     1.270695     1.291872     1.278709  \n",
       "min       1.000000     1.000000     1.000000     1.000000     1.000000  \n",
       "25%       2.000000     3.000000     2.000000     2.000000     3.000000  \n",
       "50%       3.000000     3.000000     3.000000     3.000000     3.000000  \n",
       "75%       4.000000     4.000000     4.000000     4.000000     4.000000  \n",
       "max       5.000000     5.000000     5.000000     5.000000     5.000000  \n",
       "\n",
       "[8 rows x 33 columns]"
      ]
     },
     "metadata": {},
     "execution_count": 46
    }
   ],
   "metadata": {}
  },
  {
   "cell_type": "code",
   "execution_count": 47,
   "source": [
    "kmeans = KMeans(n_clusters=2)"
   ],
   "outputs": [],
   "metadata": {}
  },
  {
   "cell_type": "code",
   "execution_count": 48,
   "source": [
    "kmeans.fit(data)"
   ],
   "outputs": [
    {
     "output_type": "execute_result",
     "data": {
      "text/plain": [
       "KMeans(n_clusters=2)"
      ]
     },
     "metadata": {},
     "execution_count": 48
    }
   ],
   "metadata": {}
  },
  {
   "cell_type": "code",
   "execution_count": 49,
   "source": [
    "pred = kmeans.predict(data)"
   ],
   "outputs": [],
   "metadata": {}
  },
  {
   "cell_type": "code",
   "execution_count": 50,
   "source": [
    "# 0 and 1 means two clusters and to which cluster the observation falls in?\r\n",
    "pred"
   ],
   "outputs": [
    {
     "output_type": "execute_result",
     "data": {
      "text/plain": [
       "array([1, 1, 0, ..., 0, 1, 1])"
      ]
     },
     "metadata": {},
     "execution_count": 50
    }
   ],
   "metadata": {}
  },
  {
   "cell_type": "code",
   "execution_count": 51,
   "source": [
    "pd.Series(pred).value_counts()"
   ],
   "outputs": [
    {
     "output_type": "execute_result",
     "data": {
      "text/plain": [
       "1    3148\n",
       "0    2672\n",
       "dtype: int64"
      ]
     },
     "metadata": {},
     "execution_count": 51
    }
   ],
   "metadata": {}
  },
  {
   "cell_type": "code",
   "execution_count": 52,
   "source": [
    "kmeans.inertia_"
   ],
   "outputs": [
    {
     "output_type": "execute_result",
     "data": {
      "text/plain": [
       "231353.86109925818"
      ]
     },
     "metadata": {},
     "execution_count": 52
    }
   ],
   "metadata": {}
  },
  {
   "cell_type": "code",
   "execution_count": 54,
   "source": [
    "kmeans.score(data)"
   ],
   "outputs": [
    {
     "output_type": "execute_result",
     "data": {
      "text/plain": [
       "-231353.86109925818"
      ]
     },
     "metadata": {},
     "execution_count": 54
    }
   ],
   "metadata": {}
  },
  {
   "cell_type": "code",
   "execution_count": null,
   "source": [
    "SSE = []\r\n",
    "\r\n",
    "for cluster in range (1,20):\r\n",
    "    kmean = KMeans(n_jobs=-1, n_clusters=cluster)\r\n",
    "    kmean.fit(data)\r\n",
    "    SSE.append(kmean.inertia_) "
   ],
   "outputs": [],
   "metadata": {}
  },
  {
   "cell_type": "code",
   "execution_count": 57,
   "source": [
    "frame = pd.DataFrame(\r\n",
    "    {\r\n",
    "        \"Cluster\": range(1,20),\r\n",
    "        \"SSE\": SSE\r\n",
    "    }\r\n",
    "\r\n",
    ")"
   ],
   "outputs": [],
   "metadata": {}
  },
  {
   "cell_type": "code",
   "execution_count": 61,
   "source": [
    "plt.figure(figsize = (12,6))\r\n",
    "plt.plot(frame.Cluster, frame.SSE)\r\n",
    "plt.xlabel(\"Clusters\")\r\n",
    "plt.ylabel(\"Inertia\")"
   ],
   "outputs": [
    {
     "output_type": "execute_result",
     "data": {
      "text/plain": [
       "Text(0, 0.5, 'Inertia')"
      ]
     },
     "metadata": {},
     "execution_count": 61
    },
    {
     "output_type": "display_data",
     "data": {
      "image/png": "[encoded data removed]",
      "text/plain": [
       "<Figure size 864x432 with 1 Axes>"
      ]
     },
     "metadata": {
      "needs_background": "light"
     }
    }
   ],
   "metadata": {}
  },
  {
   "cell_type": "markdown",
   "source": [
    "But But But.... we need to normalize the data first."
   ],
   "metadata": {}
  },
  {
   "cell_type": "code",
   "execution_count": 62,
   "source": [
    "from sklearn.preprocessing import StandardScaler\r\n",
    "scalar = StandardScaler()\r\n",
    "\r\n",
    "data_scaled = scalar.fit_transform(data)"
   ],
   "outputs": [],
   "metadata": {}
  },
  {
   "cell_type": "code",
   "execution_count": 64,
   "source": [
    "type(data_scaled)"
   ],
   "outputs": [
    {
     "output_type": "execute_result",
     "data": {
      "text/plain": [
       "numpy.ndarray"
      ]
     },
     "metadata": {},
     "execution_count": 64
    }
   ],
   "metadata": {}
  },
  {
   "cell_type": "code",
   "execution_count": 67,
   "source": [
    "data_scaled = pd.DataFrame(data_scaled)"
   ],
   "outputs": [],
   "metadata": {}
  },
  {
   "cell_type": "code",
   "execution_count": 69,
   "source": [
    "data_scaled.describe()"
   ],
   "outputs": [
    {
     "output_type": "execute_result",
     "data": {
      "text/html": [
       "<div>\n",
       "<style scoped>\n",
       "    .dataframe tbody tr th:only-of-type {\n",
       "        vertical-align: middle;\n",
       "    }\n",
       "\n",
       "    .dataframe tbody tr th {\n",
       "        vertical-align: top;\n",
       "    }\n",
       "\n",
       "    .dataframe thead th {\n",
       "        text-align: right;\n",
       "    }\n",
       "</style>\n",
       "<table border=\"1\" class=\"dataframe\">\n",
       "  <thead>\n",
       "    <tr style=\"text-align: right;\">\n",
       "      <th></th>\n",
       "      <th>0</th>\n",
       "      <th>1</th>\n",
       "      <th>2</th>\n",
       "      <th>3</th>\n",
       "      <th>4</th>\n",
       "      <th>5</th>\n",
       "      <th>6</th>\n",
       "      <th>7</th>\n",
       "      <th>8</th>\n",
       "      <th>9</th>\n",
       "      <th>...</th>\n",
       "      <th>23</th>\n",
       "      <th>24</th>\n",
       "      <th>25</th>\n",
       "      <th>26</th>\n",
       "      <th>27</th>\n",
       "      <th>28</th>\n",
       "      <th>29</th>\n",
       "      <th>30</th>\n",
       "      <th>31</th>\n",
       "      <th>32</th>\n",
       "    </tr>\n",
       "  </thead>\n",
       "  <tbody>\n",
       "    <tr>\n",
       "      <th>count</th>\n",
       "      <td>5.820000e+03</td>\n",
       "      <td>5.820000e+03</td>\n",
       "      <td>5.820000e+03</td>\n",
       "      <td>5.820000e+03</td>\n",
       "      <td>5.820000e+03</td>\n",
       "      <td>5.820000e+03</td>\n",
       "      <td>5.820000e+03</td>\n",
       "      <td>5.820000e+03</td>\n",
       "      <td>5.820000e+03</td>\n",
       "      <td>5.820000e+03</td>\n",
       "      <td>...</td>\n",
       "      <td>5.820000e+03</td>\n",
       "      <td>5.820000e+03</td>\n",
       "      <td>5.820000e+03</td>\n",
       "      <td>5.820000e+03</td>\n",
       "      <td>5.820000e+03</td>\n",
       "      <td>5.820000e+03</td>\n",
       "      <td>5.820000e+03</td>\n",
       "      <td>5.820000e+03</td>\n",
       "      <td>5.820000e+03</td>\n",
       "      <td>5.820000e+03</td>\n",
       "    </tr>\n",
       "    <tr>\n",
       "      <th>mean</th>\n",
       "      <td>1.562706e-16</td>\n",
       "      <td>9.766910e-17</td>\n",
       "      <td>2.051051e-16</td>\n",
       "      <td>-6.592665e-17</td>\n",
       "      <td>4.028851e-17</td>\n",
       "      <td>1.269698e-16</td>\n",
       "      <td>-1.660375e-16</td>\n",
       "      <td>1.465037e-16</td>\n",
       "      <td>-1.172029e-16</td>\n",
       "      <td>-1.953382e-17</td>\n",
       "      <td>...</td>\n",
       "      <td>7.325183e-17</td>\n",
       "      <td>8.790219e-17</td>\n",
       "      <td>1.855713e-16</td>\n",
       "      <td>-1.562706e-16</td>\n",
       "      <td>-1.269698e-16</td>\n",
       "      <td>1.172029e-16</td>\n",
       "      <td>-2.051051e-16</td>\n",
       "      <td>-8.301874e-17</td>\n",
       "      <td>8.301874e-17</td>\n",
       "      <td>1.709209e-16</td>\n",
       "    </tr>\n",
       "    <tr>\n",
       "      <th>std</th>\n",
       "      <td>1.000086e+00</td>\n",
       "      <td>1.000086e+00</td>\n",
       "      <td>1.000086e+00</td>\n",
       "      <td>1.000086e+00</td>\n",
       "      <td>1.000086e+00</td>\n",
       "      <td>1.000086e+00</td>\n",
       "      <td>1.000086e+00</td>\n",
       "      <td>1.000086e+00</td>\n",
       "      <td>1.000086e+00</td>\n",
       "      <td>1.000086e+00</td>\n",
       "      <td>...</td>\n",
       "      <td>1.000086e+00</td>\n",
       "      <td>1.000086e+00</td>\n",
       "      <td>1.000086e+00</td>\n",
       "      <td>1.000086e+00</td>\n",
       "      <td>1.000086e+00</td>\n",
       "      <td>1.000086e+00</td>\n",
       "      <td>1.000086e+00</td>\n",
       "      <td>1.000086e+00</td>\n",
       "      <td>1.000086e+00</td>\n",
       "      <td>1.000086e+00</td>\n",
       "    </tr>\n",
       "    <tr>\n",
       "      <th>min</th>\n",
       "      <td>-2.067850e+00</td>\n",
       "      <td>-1.701879e+00</td>\n",
       "      <td>-4.021740e-01</td>\n",
       "      <td>-1.136118e+00</td>\n",
       "      <td>-1.322221e+00</td>\n",
       "      <td>-1.439189e+00</td>\n",
       "      <td>-1.613740e+00</td>\n",
       "      <td>-1.738145e+00</td>\n",
       "      <td>-1.621254e+00</td>\n",
       "      <td>-1.646630e+00</td>\n",
       "      <td>...</td>\n",
       "      <td>-1.783194e+00</td>\n",
       "      <td>-1.790026e+00</td>\n",
       "      <td>-1.817034e+00</td>\n",
       "      <td>-1.827343e+00</td>\n",
       "      <td>-1.730392e+00</td>\n",
       "      <td>-1.698417e+00</td>\n",
       "      <td>-1.839472e+00</td>\n",
       "      <td>-1.748929e+00</td>\n",
       "      <td>-1.668120e+00</td>\n",
       "      <td>-1.805160e+00</td>\n",
       "    </tr>\n",
       "    <tr>\n",
       "      <th>25%</th>\n",
       "      <td>-6.758900e-01</td>\n",
       "      <td>-8.883988e-01</td>\n",
       "      <td>-4.021740e-01</td>\n",
       "      <td>-1.136118e+00</td>\n",
       "      <td>-1.322221e+00</td>\n",
       "      <td>-6.934552e-01</td>\n",
       "      <td>-8.356154e-01</td>\n",
       "      <td>-9.403527e-01</td>\n",
       "      <td>-8.427308e-01</td>\n",
       "      <td>-8.646959e-01</td>\n",
       "      <td>...</td>\n",
       "      <td>-2.063210e-01</td>\n",
       "      <td>-2.235345e-01</td>\n",
       "      <td>-2.420638e-01</td>\n",
       "      <td>-2.503655e-01</td>\n",
       "      <td>-9.445255e-01</td>\n",
       "      <td>-9.145943e-01</td>\n",
       "      <td>-2.486068e-01</td>\n",
       "      <td>-9.618909e-01</td>\n",
       "      <td>-8.939823e-01</td>\n",
       "      <td>-2.409479e-01</td>\n",
       "    </tr>\n",
       "    <tr>\n",
       "      <th>50%</th>\n",
       "      <td>7.160704e-01</td>\n",
       "      <td>-7.491846e-02</td>\n",
       "      <td>-4.021740e-01</td>\n",
       "      <td>-4.580819e-01</td>\n",
       "      <td>1.605008e-01</td>\n",
       "      <td>5.227822e-02</td>\n",
       "      <td>-5.749034e-02</td>\n",
       "      <td>-1.425608e-01</td>\n",
       "      <td>-6.420806e-02</td>\n",
       "      <td>-8.276145e-02</td>\n",
       "      <td>...</td>\n",
       "      <td>-2.063210e-01</td>\n",
       "      <td>-2.235345e-01</td>\n",
       "      <td>-2.420638e-01</td>\n",
       "      <td>-2.503655e-01</td>\n",
       "      <td>-1.586587e-01</td>\n",
       "      <td>-1.307718e-01</td>\n",
       "      <td>-2.486068e-01</td>\n",
       "      <td>-1.748524e-01</td>\n",
       "      <td>-1.198450e-01</td>\n",
       "      <td>-2.409479e-01</td>\n",
       "    </tr>\n",
       "    <tr>\n",
       "      <th>75%</th>\n",
       "      <td>7.160704e-01</td>\n",
       "      <td>7.385619e-01</td>\n",
       "      <td>-4.021740e-01</td>\n",
       "      <td>8.979896e-01</td>\n",
       "      <td>9.018615e-01</td>\n",
       "      <td>7.980117e-01</td>\n",
       "      <td>7.206347e-01</td>\n",
       "      <td>6.552312e-01</td>\n",
       "      <td>7.143147e-01</td>\n",
       "      <td>6.991730e-01</td>\n",
       "      <td>...</td>\n",
       "      <td>5.821153e-01</td>\n",
       "      <td>5.597111e-01</td>\n",
       "      <td>5.454215e-01</td>\n",
       "      <td>5.381232e-01</td>\n",
       "      <td>6.272081e-01</td>\n",
       "      <td>6.530507e-01</td>\n",
       "      <td>5.468257e-01</td>\n",
       "      <td>6.121861e-01</td>\n",
       "      <td>6.542923e-01</td>\n",
       "      <td>5.411584e-01</td>\n",
       "    </tr>\n",
       "    <tr>\n",
       "      <th>max</th>\n",
       "      <td>7.160704e-01</td>\n",
       "      <td>1.552042e+00</td>\n",
       "      <td>3.354893e+00</td>\n",
       "      <td>1.576025e+00</td>\n",
       "      <td>1.643222e+00</td>\n",
       "      <td>1.543745e+00</td>\n",
       "      <td>1.498760e+00</td>\n",
       "      <td>1.453023e+00</td>\n",
       "      <td>1.492837e+00</td>\n",
       "      <td>1.481107e+00</td>\n",
       "      <td>...</td>\n",
       "      <td>1.370552e+00</td>\n",
       "      <td>1.342957e+00</td>\n",
       "      <td>1.332907e+00</td>\n",
       "      <td>1.326612e+00</td>\n",
       "      <td>1.413075e+00</td>\n",
       "      <td>1.436873e+00</td>\n",
       "      <td>1.342258e+00</td>\n",
       "      <td>1.399225e+00</td>\n",
       "      <td>1.428430e+00</td>\n",
       "      <td>1.323265e+00</td>\n",
       "    </tr>\n",
       "  </tbody>\n",
       "</table>\n",
       "<p>8 rows × 33 columns</p>\n",
       "</div>"
      ],
      "text/plain": [
       "                 0             1             2             3             4   \\\n",
       "count  5.820000e+03  5.820000e+03  5.820000e+03  5.820000e+03  5.820000e+03   \n",
       "mean   1.562706e-16  9.766910e-17  2.051051e-16 -6.592665e-17  4.028851e-17   \n",
       "std    1.000086e+00  1.000086e+00  1.000086e+00  1.000086e+00  1.000086e+00   \n",
       "min   -2.067850e+00 -1.701879e+00 -4.021740e-01 -1.136118e+00 -1.322221e+00   \n",
       "25%   -6.758900e-01 -8.883988e-01 -4.021740e-01 -1.136118e+00 -1.322221e+00   \n",
       "50%    7.160704e-01 -7.491846e-02 -4.021740e-01 -4.580819e-01  1.605008e-01   \n",
       "75%    7.160704e-01  7.385619e-01 -4.021740e-01  8.979896e-01  9.018615e-01   \n",
       "max    7.160704e-01  1.552042e+00  3.354893e+00  1.576025e+00  1.643222e+00   \n",
       "\n",
       "                 5             6             7             8             9   \\\n",
       "count  5.820000e+03  5.820000e+03  5.820000e+03  5.820000e+03  5.820000e+03   \n",
       "mean   1.269698e-16 -1.660375e-16  1.465037e-16 -1.172029e-16 -1.953382e-17   \n",
       "std    1.000086e+00  1.000086e+00  1.000086e+00  1.000086e+00  1.000086e+00   \n",
       "min   -1.439189e+00 -1.613740e+00 -1.738145e+00 -1.621254e+00 -1.646630e+00   \n",
       "25%   -6.934552e-01 -8.356154e-01 -9.403527e-01 -8.427308e-01 -8.646959e-01   \n",
       "50%    5.227822e-02 -5.749034e-02 -1.425608e-01 -6.420806e-02 -8.276145e-02   \n",
       "75%    7.980117e-01  7.206347e-01  6.552312e-01  7.143147e-01  6.991730e-01   \n",
       "max    1.543745e+00  1.498760e+00  1.453023e+00  1.492837e+00  1.481107e+00   \n",
       "\n",
       "       ...            23            24            25            26  \\\n",
       "count  ...  5.820000e+03  5.820000e+03  5.820000e+03  5.820000e+03   \n",
       "mean   ...  7.325183e-17  8.790219e-17  1.855713e-16 -1.562706e-16   \n",
       "std    ...  1.000086e+00  1.000086e+00  1.000086e+00  1.000086e+00   \n",
       "min    ... -1.783194e+00 -1.790026e+00 -1.817034e+00 -1.827343e+00   \n",
       "25%    ... -2.063210e-01 -2.235345e-01 -2.420638e-01 -2.503655e-01   \n",
       "50%    ... -2.063210e-01 -2.235345e-01 -2.420638e-01 -2.503655e-01   \n",
       "75%    ...  5.821153e-01  5.597111e-01  5.454215e-01  5.381232e-01   \n",
       "max    ...  1.370552e+00  1.342957e+00  1.332907e+00  1.326612e+00   \n",
       "\n",
       "                 27            28            29            30            31  \\\n",
       "count  5.820000e+03  5.820000e+03  5.820000e+03  5.820000e+03  5.820000e+03   \n",
       "mean  -1.269698e-16  1.172029e-16 -2.051051e-16 -8.301874e-17  8.301874e-17   \n",
       "std    1.000086e+00  1.000086e+00  1.000086e+00  1.000086e+00  1.000086e+00   \n",
       "min   -1.730392e+00 -1.698417e+00 -1.839472e+00 -1.748929e+00 -1.668120e+00   \n",
       "25%   -9.445255e-01 -9.145943e-01 -2.486068e-01 -9.618909e-01 -8.939823e-01   \n",
       "50%   -1.586587e-01 -1.307718e-01 -2.486068e-01 -1.748524e-01 -1.198450e-01   \n",
       "75%    6.272081e-01  6.530507e-01  5.468257e-01  6.121861e-01  6.542923e-01   \n",
       "max    1.413075e+00  1.436873e+00  1.342258e+00  1.399225e+00  1.428430e+00   \n",
       "\n",
       "                 32  \n",
       "count  5.820000e+03  \n",
       "mean   1.709209e-16  \n",
       "std    1.000086e+00  \n",
       "min   -1.805160e+00  \n",
       "25%   -2.409479e-01  \n",
       "50%   -2.409479e-01  \n",
       "75%    5.411584e-01  \n",
       "max    1.323265e+00  \n",
       "\n",
       "[8 rows x 33 columns]"
      ]
     },
     "metadata": {},
     "execution_count": 69
    }
   ],
   "metadata": {}
  },
  {
   "cell_type": "code",
   "execution_count": null,
   "source": [
    "SSE_scaled = []\r\n",
    "\r\n",
    "for cluster in range(1,20):\r\n",
    "    kmeans = KMeans(n_jobs = -1, n_clusters = cluster)\r\n",
    "    kmeans.fit(data_scaled)\r\n",
    "    SSE_scaled.append(kmeans.inertia_)"
   ],
   "outputs": [],
   "metadata": {}
  },
  {
   "cell_type": "code",
   "execution_count": 71,
   "source": [
    "plt.figure(figsize=(12,6))\r\n",
    "frame_scaled = pd.DataFrame({'Cluster':range(1,20), 'SSE':SSE_scaled})\r\n",
    "plt.plot(frame_scaled['Cluster'], frame_scaled['SSE'], marker='o')\r\n",
    "plt.xlabel(\"Clusters\")\r\n",
    "plt.ylabel(\"SSE\")"
   ],
   "outputs": [
    {
     "output_type": "execute_result",
     "data": {
      "text/plain": [
       "Text(0, 0.5, 'SSE')"
      ]
     },
     "metadata": {},
     "execution_count": 71
    },
    {
     "output_type": "display_data",
     "data": {
      "image/png": "[encoded data removed]",
      "text/plain": [
       "<Figure size 864x432 with 1 Axes>"
      ]
     },
     "metadata": {
      "needs_background": "light"
     }
    }
   ],
   "metadata": {}
  },
  {
   "cell_type": "code",
   "execution_count": 72,
   "source": [
    "kmeans = KMeans(n_jobs = -1, n_clusters = 4)\r\n",
    "kmeans.fit(data_scaled)\r\n",
    "pred = kmeans.predict(data_scaled)"
   ],
   "outputs": [
    {
     "output_type": "stream",
     "name": "stderr",
     "text": [
      "c:\\Users\\Neelam\\Desktop\\Desktop\\Python\\Video\\env\\lib\\site-packages\\sklearn\\cluster\\_kmeans.py:938: FutureWarning: 'n_jobs' was deprecated in version 0.23 and will be removed in 0.25.\n",
      "  warnings.warn(\"'n_jobs' was deprecated in version 0.23 and will be\"\n"
     ]
    }
   ],
   "metadata": {}
  },
  {
   "cell_type": "code",
   "execution_count": 73,
   "source": [
    "pd.Series(pred).value_counts()"
   ],
   "outputs": [
    {
     "output_type": "execute_result",
     "data": {
      "text/plain": [
       "2    2101\n",
       "3    1666\n",
       "1    1196\n",
       "0     857\n",
       "dtype: int64"
      ]
     },
     "metadata": {},
     "execution_count": 73
    }
   ],
   "metadata": {}
  },
  {
   "cell_type": "code",
   "execution_count": 76,
   "source": [
    "frame = pd.DataFrame(data_scaled)"
   ],
   "outputs": [],
   "metadata": {}
  },
  {
   "cell_type": "code",
   "execution_count": 77,
   "source": [
    "frame['clusters'] = pred"
   ],
   "outputs": [],
   "metadata": {}
  },
  {
   "cell_type": "code",
   "execution_count": 78,
   "source": [
    "frame.head()"
   ],
   "outputs": [
    {
     "output_type": "execute_result",
     "data": {
      "text/html": [
       "<div>\n",
       "<style scoped>\n",
       "    .dataframe tbody tr th:only-of-type {\n",
       "        vertical-align: middle;\n",
       "    }\n",
       "\n",
       "    .dataframe tbody tr th {\n",
       "        vertical-align: top;\n",
       "    }\n",
       "\n",
       "    .dataframe thead th {\n",
       "        text-align: right;\n",
       "    }\n",
       "</style>\n",
       "<table border=\"1\" class=\"dataframe\">\n",
       "  <thead>\n",
       "    <tr style=\"text-align: right;\">\n",
       "      <th></th>\n",
       "      <th>0</th>\n",
       "      <th>1</th>\n",
       "      <th>2</th>\n",
       "      <th>3</th>\n",
       "      <th>4</th>\n",
       "      <th>5</th>\n",
       "      <th>6</th>\n",
       "      <th>7</th>\n",
       "      <th>8</th>\n",
       "      <th>9</th>\n",
       "      <th>...</th>\n",
       "      <th>24</th>\n",
       "      <th>25</th>\n",
       "      <th>26</th>\n",
       "      <th>27</th>\n",
       "      <th>28</th>\n",
       "      <th>29</th>\n",
       "      <th>30</th>\n",
       "      <th>31</th>\n",
       "      <th>32</th>\n",
       "      <th>clusters</th>\n",
       "    </tr>\n",
       "  </thead>\n",
       "  <tbody>\n",
       "    <tr>\n",
       "      <th>0</th>\n",
       "      <td>-2.06785</td>\n",
       "      <td>-1.430719</td>\n",
       "      <td>-0.402174</td>\n",
       "      <td>-1.136118</td>\n",
       "      <td>0.901862</td>\n",
       "      <td>0.052278</td>\n",
       "      <td>-0.05749</td>\n",
       "      <td>-0.142561</td>\n",
       "      <td>-0.064208</td>\n",
       "      <td>-0.082761</td>\n",
       "      <td>...</td>\n",
       "      <td>-0.223535</td>\n",
       "      <td>-0.242064</td>\n",
       "      <td>-0.250365</td>\n",
       "      <td>-0.158659</td>\n",
       "      <td>-0.130772</td>\n",
       "      <td>-0.248607</td>\n",
       "      <td>-0.174852</td>\n",
       "      <td>-0.119845</td>\n",
       "      <td>-0.240948</td>\n",
       "      <td>2</td>\n",
       "    </tr>\n",
       "    <tr>\n",
       "      <th>1</th>\n",
       "      <td>-2.06785</td>\n",
       "      <td>-1.430719</td>\n",
       "      <td>-0.402174</td>\n",
       "      <td>-0.458082</td>\n",
       "      <td>0.160501</td>\n",
       "      <td>0.052278</td>\n",
       "      <td>-0.05749</td>\n",
       "      <td>-0.142561</td>\n",
       "      <td>-0.064208</td>\n",
       "      <td>-0.082761</td>\n",
       "      <td>...</td>\n",
       "      <td>-0.223535</td>\n",
       "      <td>-0.242064</td>\n",
       "      <td>-0.250365</td>\n",
       "      <td>-0.158659</td>\n",
       "      <td>-0.130772</td>\n",
       "      <td>-0.248607</td>\n",
       "      <td>-0.174852</td>\n",
       "      <td>-0.119845</td>\n",
       "      <td>-0.240948</td>\n",
       "      <td>2</td>\n",
       "    </tr>\n",
       "    <tr>\n",
       "      <th>2</th>\n",
       "      <td>-2.06785</td>\n",
       "      <td>-1.430719</td>\n",
       "      <td>-0.402174</td>\n",
       "      <td>0.219954</td>\n",
       "      <td>0.901862</td>\n",
       "      <td>1.543745</td>\n",
       "      <td>1.49876</td>\n",
       "      <td>1.453023</td>\n",
       "      <td>1.492837</td>\n",
       "      <td>1.481107</td>\n",
       "      <td>...</td>\n",
       "      <td>1.342957</td>\n",
       "      <td>1.332907</td>\n",
       "      <td>1.326612</td>\n",
       "      <td>1.413075</td>\n",
       "      <td>1.436873</td>\n",
       "      <td>1.342258</td>\n",
       "      <td>1.399225</td>\n",
       "      <td>1.428430</td>\n",
       "      <td>1.323265</td>\n",
       "      <td>0</td>\n",
       "    </tr>\n",
       "    <tr>\n",
       "      <th>3</th>\n",
       "      <td>-2.06785</td>\n",
       "      <td>-1.430719</td>\n",
       "      <td>-0.402174</td>\n",
       "      <td>-0.458082</td>\n",
       "      <td>0.160501</td>\n",
       "      <td>0.052278</td>\n",
       "      <td>-0.05749</td>\n",
       "      <td>-0.142561</td>\n",
       "      <td>-0.064208</td>\n",
       "      <td>-0.082761</td>\n",
       "      <td>...</td>\n",
       "      <td>-0.223535</td>\n",
       "      <td>-0.242064</td>\n",
       "      <td>-0.250365</td>\n",
       "      <td>-0.158659</td>\n",
       "      <td>-0.130772</td>\n",
       "      <td>-0.248607</td>\n",
       "      <td>-0.174852</td>\n",
       "      <td>-0.119845</td>\n",
       "      <td>-0.240948</td>\n",
       "      <td>2</td>\n",
       "    </tr>\n",
       "    <tr>\n",
       "      <th>4</th>\n",
       "      <td>-2.06785</td>\n",
       "      <td>-1.430719</td>\n",
       "      <td>-0.402174</td>\n",
       "      <td>-1.136118</td>\n",
       "      <td>-1.322221</td>\n",
       "      <td>-1.439189</td>\n",
       "      <td>-1.61374</td>\n",
       "      <td>-1.738145</td>\n",
       "      <td>-1.621254</td>\n",
       "      <td>-1.646630</td>\n",
       "      <td>...</td>\n",
       "      <td>-1.790026</td>\n",
       "      <td>-1.817034</td>\n",
       "      <td>-1.827343</td>\n",
       "      <td>-1.730392</td>\n",
       "      <td>-1.698417</td>\n",
       "      <td>-1.839472</td>\n",
       "      <td>-1.748929</td>\n",
       "      <td>-1.668120</td>\n",
       "      <td>-1.805160</td>\n",
       "      <td>1</td>\n",
       "    </tr>\n",
       "  </tbody>\n",
       "</table>\n",
       "<p>5 rows × 34 columns</p>\n",
       "</div>"
      ],
      "text/plain": [
       "         0         1         2         3         4         5        6  \\\n",
       "0 -2.06785 -1.430719 -0.402174 -1.136118  0.901862  0.052278 -0.05749   \n",
       "1 -2.06785 -1.430719 -0.402174 -0.458082  0.160501  0.052278 -0.05749   \n",
       "2 -2.06785 -1.430719 -0.402174  0.219954  0.901862  1.543745  1.49876   \n",
       "3 -2.06785 -1.430719 -0.402174 -0.458082  0.160501  0.052278 -0.05749   \n",
       "4 -2.06785 -1.430719 -0.402174 -1.136118 -1.322221 -1.439189 -1.61374   \n",
       "\n",
       "          7         8         9  ...        24        25        26        27  \\\n",
       "0 -0.142561 -0.064208 -0.082761  ... -0.223535 -0.242064 -0.250365 -0.158659   \n",
       "1 -0.142561 -0.064208 -0.082761  ... -0.223535 -0.242064 -0.250365 -0.158659   \n",
       "2  1.453023  1.492837  1.481107  ...  1.342957  1.332907  1.326612  1.413075   \n",
       "3 -0.142561 -0.064208 -0.082761  ... -0.223535 -0.242064 -0.250365 -0.158659   \n",
       "4 -1.738145 -1.621254 -1.646630  ... -1.790026 -1.817034 -1.827343 -1.730392   \n",
       "\n",
       "         28        29        30        31        32  clusters  \n",
       "0 -0.130772 -0.248607 -0.174852 -0.119845 -0.240948         2  \n",
       "1 -0.130772 -0.248607 -0.174852 -0.119845 -0.240948         2  \n",
       "2  1.436873  1.342258  1.399225  1.428430  1.323265         0  \n",
       "3 -0.130772 -0.248607 -0.174852 -0.119845 -0.240948         2  \n",
       "4 -1.698417 -1.839472 -1.748929 -1.668120 -1.805160         1  \n",
       "\n",
       "[5 rows x 34 columns]"
      ]
     },
     "metadata": {},
     "execution_count": 78
    }
   ],
   "metadata": {}
  },
  {
   "cell_type": "markdown",
   "source": [
    "# Hierarchical Clusering\r\n",
    "\r\n",
    "No need to decise the number of clusters in beginning\r\n",
    "\r\n",
    "## Types:\r\n",
    "1. Agglomerative:\r\n",
    "    - Assign each point as a separate cluster\r\n",
    "    - Merge the closest pair of clustes until only single cluster is left\r\n",
    "2. Divisive\r\n",
    "    - Assign all the points to a single cluster\r\n",
    "    - Split the clusters until each cluster contains a single point"
   ],
   "metadata": {}
  },
  {
   "cell_type": "markdown",
   "source": [
    "## Steps to perform Hierarchical Clustering\r\n",
    "1. Assign each point as a seperate cluster.\r\n",
    "2. Merge the closest clusters as per the proximity matrix. Then, update the proximity matrix. \r\n",
    "    -Proximity matrix is based on Euclidian distance.\r\n",
    "3. Repeat step 2 until only a single cluster is left\r\n",
    "\r\n",
    "https://courses.analyticsvidhya.com/courses/take/ai-ml-blackbelt-accelerate-b2/lessons/22150904-hierarchical-clustering\r\n",
    "\r\n",
    "## How do we decide number of clusters?\r\n",
    "\r\n",
    "\r\n",
    "\r\n",
    "\r\n"
   ],
   "metadata": {}
  },
  {
   "cell_type": "code",
   "execution_count": null,
   "source": [],
   "outputs": [],
   "metadata": {}
  }
 ],
 "metadata": {
  "orig_nbformat": 4,
  "language_info": {
   "name": "python",
   "version": "3.8.2",
   "mimetype": "text/x-python",
   "codemirror_mode": {
    "name": "ipython",
    "version": 3
   },
   "pygments_lexer": "ipython3",
   "nbconvert_exporter": "python",
   "file_extension": ".py"
  },
  "kernelspec": {
   "name": "python3",
   "display_name": "Python 3.8.2 64-bit ('env': venv)"
  },
  "interpreter": {
   "hash": "e905ad718a08ed27c2c36c9ef4f1f873648da9e7705f623e5afe311501acb5e0"
  }
 },
 "nbformat": 4,
 "nbformat_minor": 2
}