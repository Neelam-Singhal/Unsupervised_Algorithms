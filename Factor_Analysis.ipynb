{
 "cells": [
  {
   "cell_type": "markdown",
   "source": [
    "# <b>Factor Analysis</b>\r\n",
    "\r\n",
    "Factors: Liner combination of original variables\r\n",
    "Process of combining highly correlated variables is called factor analysis\r\n",
    "\r\n",
    "Linear combinations of correlated variables\r\n",
    "\r\n",
    "In factor analysis we combine the features having low variance or which are correlated to each other.\r\n",
    "\r\n",
    "\r\n",
    "## Objective:\r\n",
    "- Reduce numer of variables / decrease dimensionality\r\n",
    "- Examine relationships between variables\r\n",
    "- Address problem of milticollinearily\r\n",
    "\r\n",
    "## Assumption:\r\n",
    "- Normalized data\r\n",
    "- Factors are independent of each other\r\n",
    "- There exists some underlying factors that can describe the original variables\r\n",
    "\r\n",
    "## Type of FA:\r\n",
    "<b>1) Exploratory FA:</b>\r\n",
    "- ID relationships among variables\r\n",
    "- Group variables that are part of similar concept\r\n",
    "- No prior assumption abt number or relationshop among factors\r\n",
    "\r\n",
    "<b>2) Confirmatory FA:</b>\r\n",
    "- Assumption regarding num of factors. We create a hypothesis that there are N number of factors which can represent or describe the data.\r\n",
    "- Test hypothesis that variables are associated with n specific factors.\r\n",
    "\r\n",
    "## Steps:\r\n",
    "1) Validate the data: \r\n",
    "    - Sample size. Sample size > 1000 for excellent performance\r\n",
    "    - Sample to Variable ratio. This ratio should be around 15:1\r\n",
    "    - Correlation values of variables. If correlation is very less (<0.3), then FA might not be a good technique\r\n",
    "\r\n",
    "2) Extract the factors:\r\n",
    "    - Assumptions:\r\n",
    "        - Error terms are independent of one another\r\n",
    "        - Factors are independent of one another as well as error terms\r\n",
    "\r\n",
    "3)\r\n",
    "\r\n",
    "\r\n",
    "## Factor Lodings:\r\n",
    "- represent the relationship of each variable with underlying factors\r\n",
    "\r\n"
   ],
   "metadata": {}
  },
  {
   "cell_type": "code",
   "execution_count": 84,
   "source": [
    "# import required libraries\r\n",
    "import pandas as pd\r\n",
    "import numpy as np\r\n",
    "import matplotlib.pyplot as plt\r\n",
    "%matplotlib inline\r\n",
    "from sklearn.model_selection import train_test_split\r\n",
    "from sklearn.ensemble import RandomForestRegressor\r\n",
    "from sklearn.metrics import mean_squared_error\r\n",
    "from sklearn.decomposition import FactorAnalysis"
   ],
   "outputs": [],
   "metadata": {}
  },
  {
   "cell_type": "code",
   "execution_count": 85,
   "source": [
    "train = pd.read_csv('data.csv')"
   ],
   "outputs": [],
   "metadata": {}
  },
  {
   "cell_type": "code",
   "execution_count": 86,
   "source": [
    "train.head()"
   ],
   "outputs": [
    {
     "output_type": "execute_result",
     "data": {
      "text/html": [
       "<div>\n",
       "<style scoped>\n",
       "    .dataframe tbody tr th:only-of-type {\n",
       "        vertical-align: middle;\n",
       "    }\n",
       "\n",
       "    .dataframe tbody tr th {\n",
       "        vertical-align: top;\n",
       "    }\n",
       "\n",
       "    .dataframe thead th {\n",
       "        text-align: right;\n",
       "    }\n",
       "</style>\n",
       "<table border=\"1\" class=\"dataframe\">\n",
       "  <thead>\n",
       "    <tr style=\"text-align: right;\">\n",
       "      <th></th>\n",
       "      <th>Item_Identifier</th>\n",
       "      <th>Item_Weight</th>\n",
       "      <th>Item_Fat_Content</th>\n",
       "      <th>Item_Visibility</th>\n",
       "      <th>Item_Type</th>\n",
       "      <th>Item_MRP</th>\n",
       "      <th>Outlet_Identifier</th>\n",
       "      <th>Outlet_Establishment_Year</th>\n",
       "      <th>Outlet_Size</th>\n",
       "      <th>Outlet_Location_Type</th>\n",
       "      <th>Outlet_Type</th>\n",
       "      <th>Item_Outlet_Sales</th>\n",
       "    </tr>\n",
       "  </thead>\n",
       "  <tbody>\n",
       "    <tr>\n",
       "      <th>0</th>\n",
       "      <td>FDA15</td>\n",
       "      <td>9.30</td>\n",
       "      <td>Low Fat</td>\n",
       "      <td>0.016047</td>\n",
       "      <td>Dairy</td>\n",
       "      <td>249.8092</td>\n",
       "      <td>OUT049</td>\n",
       "      <td>1999</td>\n",
       "      <td>Medium</td>\n",
       "      <td>Tier 1</td>\n",
       "      <td>Supermarket Type1</td>\n",
       "      <td>3735.1380</td>\n",
       "    </tr>\n",
       "    <tr>\n",
       "      <th>1</th>\n",
       "      <td>DRC01</td>\n",
       "      <td>5.92</td>\n",
       "      <td>Regular</td>\n",
       "      <td>0.019278</td>\n",
       "      <td>Soft Drinks</td>\n",
       "      <td>48.2692</td>\n",
       "      <td>OUT018</td>\n",
       "      <td>2009</td>\n",
       "      <td>Medium</td>\n",
       "      <td>Tier 3</td>\n",
       "      <td>Supermarket Type2</td>\n",
       "      <td>443.4228</td>\n",
       "    </tr>\n",
       "    <tr>\n",
       "      <th>2</th>\n",
       "      <td>FDN15</td>\n",
       "      <td>17.50</td>\n",
       "      <td>Low Fat</td>\n",
       "      <td>0.016760</td>\n",
       "      <td>Meat</td>\n",
       "      <td>141.6180</td>\n",
       "      <td>OUT049</td>\n",
       "      <td>1999</td>\n",
       "      <td>Medium</td>\n",
       "      <td>Tier 1</td>\n",
       "      <td>Supermarket Type1</td>\n",
       "      <td>2097.2700</td>\n",
       "    </tr>\n",
       "    <tr>\n",
       "      <th>3</th>\n",
       "      <td>FDX07</td>\n",
       "      <td>19.20</td>\n",
       "      <td>Regular</td>\n",
       "      <td>0.000000</td>\n",
       "      <td>Fruits and Vegetables</td>\n",
       "      <td>182.0950</td>\n",
       "      <td>OUT010</td>\n",
       "      <td>1998</td>\n",
       "      <td>NaN</td>\n",
       "      <td>Tier 3</td>\n",
       "      <td>Grocery Store</td>\n",
       "      <td>732.3800</td>\n",
       "    </tr>\n",
       "    <tr>\n",
       "      <th>4</th>\n",
       "      <td>NCD19</td>\n",
       "      <td>8.93</td>\n",
       "      <td>Low Fat</td>\n",
       "      <td>0.000000</td>\n",
       "      <td>Household</td>\n",
       "      <td>53.8614</td>\n",
       "      <td>OUT013</td>\n",
       "      <td>1987</td>\n",
       "      <td>High</td>\n",
       "      <td>Tier 3</td>\n",
       "      <td>Supermarket Type1</td>\n",
       "      <td>994.7052</td>\n",
       "    </tr>\n",
       "  </tbody>\n",
       "</table>\n",
       "</div>"
      ],
      "text/plain": [
       "  Item_Identifier  Item_Weight Item_Fat_Content  Item_Visibility  \\\n",
       "0           FDA15         9.30          Low Fat         0.016047   \n",
       "1           DRC01         5.92          Regular         0.019278   \n",
       "2           FDN15        17.50          Low Fat         0.016760   \n",
       "3           FDX07        19.20          Regular         0.000000   \n",
       "4           NCD19         8.93          Low Fat         0.000000   \n",
       "\n",
       "               Item_Type  Item_MRP Outlet_Identifier  \\\n",
       "0                  Dairy  249.8092            OUT049   \n",
       "1            Soft Drinks   48.2692            OUT018   \n",
       "2                   Meat  141.6180            OUT049   \n",
       "3  Fruits and Vegetables  182.0950            OUT010   \n",
       "4              Household   53.8614            OUT013   \n",
       "\n",
       "   Outlet_Establishment_Year Outlet_Size Outlet_Location_Type  \\\n",
       "0                       1999      Medium               Tier 1   \n",
       "1                       2009      Medium               Tier 3   \n",
       "2                       1999      Medium               Tier 1   \n",
       "3                       1998         NaN               Tier 3   \n",
       "4                       1987        High               Tier 3   \n",
       "\n",
       "         Outlet_Type  Item_Outlet_Sales  \n",
       "0  Supermarket Type1          3735.1380  \n",
       "1  Supermarket Type2           443.4228  \n",
       "2  Supermarket Type1          2097.2700  \n",
       "3      Grocery Store           732.3800  \n",
       "4  Supermarket Type1           994.7052  "
      ]
     },
     "metadata": {},
     "execution_count": 86
    }
   ],
   "metadata": {}
  },
  {
   "cell_type": "code",
   "execution_count": 87,
   "source": [
    "train.isnull().sum()"
   ],
   "outputs": [
    {
     "output_type": "execute_result",
     "data": {
      "text/plain": [
       "Item_Identifier                 0\n",
       "Item_Weight                  1463\n",
       "Item_Fat_Content                0\n",
       "Item_Visibility                 0\n",
       "Item_Type                       0\n",
       "Item_MRP                        0\n",
       "Outlet_Identifier               0\n",
       "Outlet_Establishment_Year       0\n",
       "Outlet_Size                  2410\n",
       "Outlet_Location_Type            0\n",
       "Outlet_Type                     0\n",
       "Item_Outlet_Sales               0\n",
       "dtype: int64"
      ]
     },
     "metadata": {},
     "execution_count": 87
    }
   ],
   "metadata": {}
  },
  {
   "cell_type": "code",
   "execution_count": 88,
   "source": [
    "train.Item_Weight.median()"
   ],
   "outputs": [
    {
     "output_type": "execute_result",
     "data": {
      "text/plain": [
       "12.6"
      ]
     },
     "metadata": {},
     "execution_count": 88
    }
   ],
   "metadata": {}
  },
  {
   "cell_type": "code",
   "execution_count": 89,
   "source": [
    "train.Outlet_Size.fillna(train.Outlet_Size.mode()[0], inplace=True)\r\n",
    "train.Item_Weight.fillna(train.Item_Weight.median(), inplace=True)\r\n"
   ],
   "outputs": [],
   "metadata": {}
  },
  {
   "cell_type": "code",
   "execution_count": 90,
   "source": [
    "train.shape"
   ],
   "outputs": [
    {
     "output_type": "execute_result",
     "data": {
      "text/plain": [
       "(8523, 12)"
      ]
     },
     "metadata": {},
     "execution_count": 90
    }
   ],
   "metadata": {}
  },
  {
   "cell_type": "code",
   "execution_count": 92,
   "source": [
    "train_updated = train.drop([\"Item_Identifier\", \"Outlet_Identifier\"], axis=1)"
   ],
   "outputs": [],
   "metadata": {}
  },
  {
   "cell_type": "code",
   "execution_count": 93,
   "source": [
    "train_updated.nunique()"
   ],
   "outputs": [
    {
     "output_type": "execute_result",
     "data": {
      "text/plain": [
       "Item_Weight                   415\n",
       "Item_Fat_Content                5\n",
       "Item_Visibility              7880\n",
       "Item_Type                      16\n",
       "Item_MRP                     5938\n",
       "Outlet_Establishment_Year       9\n",
       "Outlet_Size                     3\n",
       "Outlet_Location_Type            3\n",
       "Outlet_Type                     4\n",
       "Item_Outlet_Sales            3493\n",
       "dtype: int64"
      ]
     },
     "metadata": {},
     "execution_count": 93
    }
   ],
   "metadata": {}
  },
  {
   "cell_type": "code",
   "execution_count": 94,
   "source": [
    "# We need to convert categorical data into numericals\r\n",
    "train_updated = pd.get_dummies(train_updated)"
   ],
   "outputs": [],
   "metadata": {}
  },
  {
   "cell_type": "code",
   "execution_count": 95,
   "source": [
    "train_updated.shape"
   ],
   "outputs": [
    {
     "output_type": "execute_result",
     "data": {
      "text/plain": [
       "(8523, 36)"
      ]
     },
     "metadata": {},
     "execution_count": 95
    }
   ],
   "metadata": {}
  },
  {
   "cell_type": "code",
   "execution_count": 122,
   "source": [
    "# separating the target variable\r\n",
    "df = train_updated.drop('Item_Outlet_Sales',1)\r\n",
    "target = train_updated['Item_Outlet_Sales']"
   ],
   "outputs": [],
   "metadata": {}
  },
  {
   "cell_type": "code",
   "execution_count": 123,
   "source": [
    "# creating the training and validation set\r\n",
    "X_train, X_valid, y_train, y_valid = train_test_split(df, target, random_state = 10, test_size = 0.25)"
   ],
   "outputs": [],
   "metadata": {}
  },
  {
   "cell_type": "markdown",
   "source": [
    "## Checking the assumptions of applying Factor Analysis"
   ],
   "metadata": {}
  },
  {
   "cell_type": "markdown",
   "source": [
    "Sample size. Sample size > 1000 for excellent performance"
   ],
   "metadata": {}
  },
  {
   "cell_type": "code",
   "execution_count": 124,
   "source": [
    "X_train.shape[0]"
   ],
   "outputs": [
    {
     "output_type": "execute_result",
     "data": {
      "text/plain": [
       "6392"
      ]
     },
     "metadata": {},
     "execution_count": 124
    }
   ],
   "metadata": {}
  },
  {
   "cell_type": "markdown",
   "source": [
    "Sample to Variable ratio. This ratio should be around 15:1"
   ],
   "metadata": {}
  },
  {
   "cell_type": "code",
   "execution_count": 125,
   "source": [
    "X_train.shape[0] / X_train.shape[1]"
   ],
   "outputs": [
    {
     "output_type": "execute_result",
     "data": {
      "text/plain": [
       "182.62857142857143"
      ]
     },
     "metadata": {},
     "execution_count": 125
    }
   ],
   "metadata": {}
  },
  {
   "cell_type": "markdown",
   "source": [
    "Correlation values of variables. If correlation is very less (<0.5), then FA might not be a good technique"
   ],
   "metadata": {}
  },
  {
   "cell_type": "code",
   "execution_count": 130,
   "source": [
    "cor = X_train.corr().abs()\r\n",
    "cor\r\n",
    "\r\n",
    "s = cor.unstack()\r\n",
    "so = s.sort_values(ascending=False)"
   ],
   "outputs": [],
   "metadata": {}
  },
  {
   "cell_type": "code",
   "execution_count": 131,
   "source": [
    "count = 0\r\n",
    "for i in so:\r\n",
    "    if(i < 1 and i >= 0.5):\r\n",
    "        count = count+1\r\n",
    "\r\n",
    "count"
   ],
   "outputs": [
    {
     "output_type": "execute_result",
     "data": {
      "text/plain": [
       "18"
      ]
     },
     "metadata": {},
     "execution_count": 131
    }
   ],
   "metadata": {}
  },
  {
   "cell_type": "code",
   "execution_count": 132,
   "source": [
    "# creating the random forest regressor model\r\n",
    "model = RandomForestRegressor(random_state=1, max_depth=3, n_estimators=100)"
   ],
   "outputs": [],
   "metadata": {}
  },
  {
   "cell_type": "code",
   "execution_count": 133,
   "source": [
    "model.fit(X_train, y_train)"
   ],
   "outputs": [
    {
     "output_type": "execute_result",
     "data": {
      "text/plain": [
       "RandomForestRegressor(max_depth=3, random_state=1)"
      ]
     },
     "metadata": {},
     "execution_count": 133
    }
   ],
   "metadata": {}
  },
  {
   "cell_type": "code",
   "execution_count": 135,
   "source": [
    "pred1 = model.predict(X_valid)"
   ],
   "outputs": [],
   "metadata": {}
  },
  {
   "cell_type": "code",
   "execution_count": 140,
   "source": [
    "np.sqrt(mean_squared_error(pred1, y_valid)), np.sqrt(mean_squared_error(model.predict(X_train), y_train)) "
   ],
   "outputs": [
    {
     "output_type": "execute_result",
     "data": {
      "text/plain": [
       "(1178.0230078335858, 1144.2150863170398)"
      ]
     },
     "metadata": {},
     "execution_count": 140
    }
   ],
   "metadata": {}
  },
  {
   "cell_type": "markdown",
   "source": [
    "## Factor Analysis\r\n",
    "\r\n",
    "There were 9 highly corelated features. So, we will create a FA with the 9 factors"
   ],
   "metadata": {}
  },
  {
   "cell_type": "code",
   "execution_count": 141,
   "source": [
    "fa = FactorAnalysis(n_components=9)"
   ],
   "outputs": [],
   "metadata": {}
  },
  {
   "cell_type": "code",
   "execution_count": 142,
   "source": [
    "X_train_transformed = fa.fit_transform(X_train)\r\n",
    "X_valid_transformed = fa.fit_transform(X_valid)"
   ],
   "outputs": [],
   "metadata": {}
  },
  {
   "cell_type": "code",
   "execution_count": 144,
   "source": [
    "model = RandomForestRegressor(random_state=1, max_depth=3, n_estimators=100)"
   ],
   "outputs": [],
   "metadata": {}
  },
  {
   "cell_type": "code",
   "execution_count": 146,
   "source": [
    "model.fit(X_train_transformed, y_train)"
   ],
   "outputs": [
    {
     "output_type": "execute_result",
     "data": {
      "text/plain": [
       "RandomForestRegressor(max_depth=3, random_state=1)"
      ]
     },
     "metadata": {},
     "execution_count": 146
    }
   ],
   "metadata": {}
  },
  {
   "cell_type": "code",
   "execution_count": 148,
   "source": [
    "np.sqrt(mean_squared_error(model.predict(X_valid_transformed), y_valid)), np.sqrt(mean_squared_error(model.predict(X_train_transformed), y_train))"
   ],
   "outputs": [
    {
     "output_type": "execute_result",
     "data": {
      "text/plain": [
       "(1169.664223904249, 1137.4631254119918)"
      ]
     },
     "metadata": {},
     "execution_count": 148
    }
   ],
   "metadata": {}
  },
  {
   "cell_type": "markdown",
   "source": [
    "As we can see, error has decreased in both the cases"
   ],
   "metadata": {}
  },
  {
   "cell_type": "code",
   "execution_count": 149,
   "source": [
    "# correlation between transformed variables\r\n",
    "pd.DataFrame(X_train_transformed).corr()"
   ],
   "outputs": [
    {
     "output_type": "execute_result",
     "data": {
      "text/html": [
       "<div>\n",
       "<style scoped>\n",
       "    .dataframe tbody tr th:only-of-type {\n",
       "        vertical-align: middle;\n",
       "    }\n",
       "\n",
       "    .dataframe tbody tr th {\n",
       "        vertical-align: top;\n",
       "    }\n",
       "\n",
       "    .dataframe thead th {\n",
       "        text-align: right;\n",
       "    }\n",
       "</style>\n",
       "<table border=\"1\" class=\"dataframe\">\n",
       "  <thead>\n",
       "    <tr style=\"text-align: right;\">\n",
       "      <th></th>\n",
       "      <th>0</th>\n",
       "      <th>1</th>\n",
       "      <th>2</th>\n",
       "      <th>3</th>\n",
       "      <th>4</th>\n",
       "      <th>5</th>\n",
       "      <th>6</th>\n",
       "      <th>7</th>\n",
       "      <th>8</th>\n",
       "    </tr>\n",
       "  </thead>\n",
       "  <tbody>\n",
       "    <tr>\n",
       "      <th>0</th>\n",
       "      <td>1.000000e+00</td>\n",
       "      <td>-2.022603e-16</td>\n",
       "      <td>5.192967e-16</td>\n",
       "      <td>-4.904165e-16</td>\n",
       "      <td>-1.126949e-14</td>\n",
       "      <td>-3.390829e-15</td>\n",
       "      <td>8.005896e-15</td>\n",
       "      <td>1.092147e-14</td>\n",
       "      <td>-2.695476e-13</td>\n",
       "    </tr>\n",
       "    <tr>\n",
       "      <th>1</th>\n",
       "      <td>-2.022603e-16</td>\n",
       "      <td>1.000000e+00</td>\n",
       "      <td>7.188844e-16</td>\n",
       "      <td>3.179326e-16</td>\n",
       "      <td>-1.029723e-14</td>\n",
       "      <td>3.723320e-15</td>\n",
       "      <td>-2.561599e-14</td>\n",
       "      <td>-5.736207e-14</td>\n",
       "      <td>1.974648e-12</td>\n",
       "    </tr>\n",
       "    <tr>\n",
       "      <th>2</th>\n",
       "      <td>5.192967e-16</td>\n",
       "      <td>7.188844e-16</td>\n",
       "      <td>1.000000e+00</td>\n",
       "      <td>1.368673e-17</td>\n",
       "      <td>2.790775e-14</td>\n",
       "      <td>4.186363e-14</td>\n",
       "      <td>-1.086952e-13</td>\n",
       "      <td>7.818612e-14</td>\n",
       "      <td>-5.862706e-12</td>\n",
       "    </tr>\n",
       "    <tr>\n",
       "      <th>3</th>\n",
       "      <td>-4.904165e-16</td>\n",
       "      <td>3.179326e-16</td>\n",
       "      <td>1.368673e-17</td>\n",
       "      <td>1.000000e+00</td>\n",
       "      <td>-3.485096e-14</td>\n",
       "      <td>-1.441964e-13</td>\n",
       "      <td>-3.057529e-13</td>\n",
       "      <td>1.051940e-13</td>\n",
       "      <td>-3.969464e-12</td>\n",
       "    </tr>\n",
       "    <tr>\n",
       "      <th>4</th>\n",
       "      <td>-1.126949e-14</td>\n",
       "      <td>-1.029723e-14</td>\n",
       "      <td>2.790775e-14</td>\n",
       "      <td>-3.485096e-14</td>\n",
       "      <td>1.000000e+00</td>\n",
       "      <td>1.310354e-14</td>\n",
       "      <td>6.216524e-16</td>\n",
       "      <td>-8.080253e-17</td>\n",
       "      <td>8.379436e-16</td>\n",
       "    </tr>\n",
       "    <tr>\n",
       "      <th>5</th>\n",
       "      <td>-3.390829e-15</td>\n",
       "      <td>3.723320e-15</td>\n",
       "      <td>4.186363e-14</td>\n",
       "      <td>-1.441964e-13</td>\n",
       "      <td>1.310354e-14</td>\n",
       "      <td>1.000000e+00</td>\n",
       "      <td>4.679221e-15</td>\n",
       "      <td>-6.886128e-15</td>\n",
       "      <td>-1.162077e-13</td>\n",
       "    </tr>\n",
       "    <tr>\n",
       "      <th>6</th>\n",
       "      <td>8.005896e-15</td>\n",
       "      <td>-2.561599e-14</td>\n",
       "      <td>-1.086952e-13</td>\n",
       "      <td>-3.057529e-13</td>\n",
       "      <td>6.216524e-16</td>\n",
       "      <td>4.679221e-15</td>\n",
       "      <td>1.000000e+00</td>\n",
       "      <td>3.574362e-13</td>\n",
       "      <td>3.217976e-12</td>\n",
       "    </tr>\n",
       "    <tr>\n",
       "      <th>7</th>\n",
       "      <td>1.092147e-14</td>\n",
       "      <td>-5.736207e-14</td>\n",
       "      <td>7.818612e-14</td>\n",
       "      <td>1.051940e-13</td>\n",
       "      <td>-8.080253e-17</td>\n",
       "      <td>-6.886128e-15</td>\n",
       "      <td>3.574362e-13</td>\n",
       "      <td>1.000000e+00</td>\n",
       "      <td>1.047293e-10</td>\n",
       "    </tr>\n",
       "    <tr>\n",
       "      <th>8</th>\n",
       "      <td>-2.695476e-13</td>\n",
       "      <td>1.974648e-12</td>\n",
       "      <td>-5.862706e-12</td>\n",
       "      <td>-3.969464e-12</td>\n",
       "      <td>8.379436e-16</td>\n",
       "      <td>-1.162077e-13</td>\n",
       "      <td>3.217976e-12</td>\n",
       "      <td>1.047293e-10</td>\n",
       "      <td>1.000000e+00</td>\n",
       "    </tr>\n",
       "  </tbody>\n",
       "</table>\n",
       "</div>"
      ],
      "text/plain": [
       "              0             1             2             3             4  \\\n",
       "0  1.000000e+00 -2.022603e-16  5.192967e-16 -4.904165e-16 -1.126949e-14   \n",
       "1 -2.022603e-16  1.000000e+00  7.188844e-16  3.179326e-16 -1.029723e-14   \n",
       "2  5.192967e-16  7.188844e-16  1.000000e+00  1.368673e-17  2.790775e-14   \n",
       "3 -4.904165e-16  3.179326e-16  1.368673e-17  1.000000e+00 -3.485096e-14   \n",
       "4 -1.126949e-14 -1.029723e-14  2.790775e-14 -3.485096e-14  1.000000e+00   \n",
       "5 -3.390829e-15  3.723320e-15  4.186363e-14 -1.441964e-13  1.310354e-14   \n",
       "6  8.005896e-15 -2.561599e-14 -1.086952e-13 -3.057529e-13  6.216524e-16   \n",
       "7  1.092147e-14 -5.736207e-14  7.818612e-14  1.051940e-13 -8.080253e-17   \n",
       "8 -2.695476e-13  1.974648e-12 -5.862706e-12 -3.969464e-12  8.379436e-16   \n",
       "\n",
       "              5             6             7             8  \n",
       "0 -3.390829e-15  8.005896e-15  1.092147e-14 -2.695476e-13  \n",
       "1  3.723320e-15 -2.561599e-14 -5.736207e-14  1.974648e-12  \n",
       "2  4.186363e-14 -1.086952e-13  7.818612e-14 -5.862706e-12  \n",
       "3 -1.441964e-13 -3.057529e-13  1.051940e-13 -3.969464e-12  \n",
       "4  1.310354e-14  6.216524e-16 -8.080253e-17  8.379436e-16  \n",
       "5  1.000000e+00  4.679221e-15 -6.886128e-15 -1.162077e-13  \n",
       "6  4.679221e-15  1.000000e+00  3.574362e-13  3.217976e-12  \n",
       "7 -6.886128e-15  3.574362e-13  1.000000e+00  1.047293e-10  \n",
       "8 -1.162077e-13  3.217976e-12  1.047293e-10  1.000000e+00  "
      ]
     },
     "metadata": {},
     "execution_count": 149
    }
   ],
   "metadata": {}
  },
  {
   "cell_type": "code",
   "execution_count": 150,
   "source": [
    "# arranging the correlation in descending order\r\n",
    "c = pd.DataFrame(X_train_transformed).corr().abs()\r\n",
    "s = c.unstack()\r\n",
    "so = s.sort_values(ascending=False)"
   ],
   "outputs": [],
   "metadata": {}
  },
  {
   "cell_type": "code",
   "execution_count": 151,
   "source": [
    "# number of transformed variables having correlation more than 0.1\r\n",
    "count=0\r\n",
    "for i in range(len(so.values)):\r\n",
    "    if so.values[i] < 1.0 and so.values[i] >= 0.1:\r\n",
    "        count = count + 1\r\n",
    "print(count)"
   ],
   "outputs": [
    {
     "output_type": "stream",
     "name": "stdout",
     "text": [
      "0\n"
     ]
    }
   ],
   "metadata": {}
  },
  {
   "cell_type": "markdown",
   "source": [
    "Also, we can see that coorelation between the factors is 0"
   ],
   "metadata": {}
  },
  {
   "cell_type": "code",
   "execution_count": null,
   "source": [],
   "outputs": [],
   "metadata": {}
  }
 ],
 "metadata": {
  "orig_nbformat": 4,
  "language_info": {
   "name": "python",
   "version": "3.8.2",
   "mimetype": "text/x-python",
   "codemirror_mode": {
    "name": "ipython",
    "version": 3
   },
   "pygments_lexer": "ipython3",
   "nbconvert_exporter": "python",
   "file_extension": ".py"
  },
  "kernelspec": {
   "name": "python3",
   "display_name": "Python 3.8.2 64-bit ('env': venv)"
  },
  "interpreter": {
   "hash": "e905ad718a08ed27c2c36c9ef4f1f873648da9e7705f623e5afe311501acb5e0"
  }
 },
 "nbformat": 4,
 "nbformat_minor": 2
}