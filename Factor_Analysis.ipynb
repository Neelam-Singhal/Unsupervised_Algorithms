{
 "cells": [
  {
   "cell_type": "markdown",
   "source": [
    "# <b>Factor Analysis</b>\r\n",
    "\r\n",
    "Factors: Liner combination of original variables\r\n",
    "Process of combining highly correlated variables is called factor analysis\r\n",
    "\r\n",
    "Linear combinations of correlated variables\r\n",
    "\r\n",
    "## Objective:\r\n",
    "- Reduce numer of variables / decrease dimensionality\r\n",
    "- Examine relationships between variables\r\n",
    "- Address problem of milticollinearily\r\n",
    "\r\n",
    "## Assumption:\r\n",
    "- Normalized data\r\n",
    "- Factors are independent of each other\r\n",
    "- There exists some underlying factors that can describe the original variables\r\n",
    "\r\n",
    "## Type of FA:\r\n",
    "<b>1) Exploratory FA:</b>\r\n",
    "- ID relationships among variables\r\n",
    "- Group variables that are part of similar concept\r\n",
    "- No prior assumption abt number or relationshop among factors\r\n",
    "\r\n",
    "<b>2) Confirmatory FA:</b>\r\n",
    "- Assumption regarding num of factors. We create a hypothesis that there are N number of factors which can represent or describe the data.\r\n",
    "- Test hypothesis that variables are associated with n specific factors.\r\n",
    "\r\n",
    "## Steps:\r\n",
    "1) Validate the data: \r\n",
    "    - Sample size. Sample size > 300 for good performance\r\n",
    "    - Sample to Variable ratio. This ratio should be arounf 15:1\r\n",
    "    - Correlation values of variables. If correlation is very less (<0.3), then FA might not be a good technique\r\n",
    "\r\n",
    "2) Extract the factors:\r\n",
    "    - Assumptions:\r\n",
    "        - Error terms are independent of one another\r\n",
    "        - Factors are independent of one another as well as error terms\r\n",
    "\r\n",
    "3)\r\n",
    "\r\n",
    "\r\n",
    "\r\n",
    "\r\n",
    "\r\n"
   ],
   "metadata": {}
  },
  {
   "cell_type": "code",
   "execution_count": null,
   "source": [],
   "outputs": [],
   "metadata": {}
  }
 ],
 "metadata": {
  "orig_nbformat": 4,
  "language_info": {
   "name": "python"
  }
 },
 "nbformat": 4,
 "nbformat_minor": 2
}